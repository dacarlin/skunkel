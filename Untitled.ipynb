{
 "cells": [
  {
   "cell_type": "code",
   "execution_count": 25,
   "metadata": {
    "collapsed": true
   },
   "outputs": [],
   "source": [
    "real_muts = [{\"destination\":\"T352V/0\",\"sequence\":\"TGCTGCACCATTTTCCACAATCAGGATCGGCAG\",\"scale\":\"25nm\",\"purification\":\"standard\"},{\"destination\":\"N293Y/0\",\"sequence\":\"GCTACGGGTATAATAATAAATGCCCAGAAAATC\",\"scale\":\"25nm\",\"purification\":\"standard\"},{\"destination\":\"L171N/0\",\"sequence\":\"ACCGGTGCCATAACCGTTAATGCTTGCACAATA\",\"scale\":\"25nm\",\"purification\":\"standard\"},{\"destination\":\"H178W/0\",\"sequence\":\"TTCATGACCCGGTGCCCATTCACCGGTGCCATA\",\"scale\":\"25nm\",\"purification\":\"standard\"},{\"destination\":\"E406V/0\",\"sequence\":\"ATAACCCCATGCCCACACAAAGTTATCCAGAAA\",\"scale\":\"25nm\",\"purification\":\"standard\"},{\"destination\":\"Y166K/0\",\"sequence\":\"CAGAATGCTTGCACATTTCGGTTCATTGATGGT\",\"scale\":\"25nm\",\"purification\":\"standard\"},{\"destination\":\"I20C/0\",\"sequence\":\"ATCGGTGCCACCTTCGCACTGATAGCTGCTGGT\",\"scale\":\"25nm\",\"purification\":\"standard\"},{\"destination\":\"H178C/0\",\"sequence\":\"TTCATGACCCGGTGCGCATTCACCGGTGCCATA\",\"scale\":\"25nm\",\"purification\":\"standard\"},{\"destination\":\"A306N/0\",\"sequence\":\"AACTTGCAGCAGGCTGTTATCATTGGTGCTGCG\",\"scale\":\"25nm\",\"purification\":\"standard\"},{\"destination\":\"H119Q/0\",\"sequence\":\"CTGCGGCAGATCCCACTGATACAGGGTCAGCAT\",\"scale\":\"25nm\",\"purification\":\"standard\"},{\"destination\":\"H328N/0\",\"sequence\":\"ATAGAAGCTTTCCGGGTTAATTTCCCAACCCAT\",\"scale\":\"25nm\",\"purification\":\"standard\"},{\"destination\":\"W120N/0\",\"sequence\":\"CCACTGCGGCAGATCGTTATGATACAGGGTCAG\",\"scale\":\"25nm\",\"purification\":\"standard\"},{\"destination\":\"M10Q/0\",\"sequence\":\"GGTGCTGGTGCCCCACTGAAAGGTTGCCGGAAA\",\"scale\":\"25nm\",\"purification\":\"standard\"},{\"destination\":\"Y118F/0\",\"sequence\":\"CGGCAGATCCCAATGAAACAGGGTCAGCATCGG\",\"scale\":\"25nm\",\"purification\":\"standard\"},{\"destination\":\"T175H/0\",\"sequence\":\"CGGTGCATGTTCACCATGGCCATAACCCAGAAT\",\"scale\":\"25nm\",\"purification\":\"standard\"},{\"destination\":\"Y295W/0\",\"sequence\":\"AATAATGCTACGGGTCCAATAGTTAATGCCCAG\",\"scale\":\"25nm\",\"purification\":\"standard\"}]"
   ]
  },
  {
   "cell_type": "code",
   "execution_count": 26,
   "metadata": {
    "collapsed": false
   },
   "outputs": [],
   "source": [
    "my_muts = {}\n",
    "for i in real_muts:\n",
    "    my_muts.update( { i[ 'destination' ].split( '/' )[0]: [ i['sequence' ] ] } ) "
   ]
  },
  {
   "cell_type": "code",
   "execution_count": 27,
   "metadata": {
    "collapsed": false
   },
   "outputs": [
    {
     "data": {
      "text/plain": [
       "{'A306N': ['AACTTGCAGCAGGCTGTTATCATTGGTGCTGCG'],\n",
       " 'E406V': ['ATAACCCCATGCCCACACAAAGTTATCCAGAAA'],\n",
       " 'H119Q': ['CTGCGGCAGATCCCACTGATACAGGGTCAGCAT'],\n",
       " 'H178C': ['TTCATGACCCGGTGCGCATTCACCGGTGCCATA'],\n",
       " 'H178W': ['TTCATGACCCGGTGCCCATTCACCGGTGCCATA'],\n",
       " 'H328N': ['ATAGAAGCTTTCCGGGTTAATTTCCCAACCCAT'],\n",
       " 'I20C': ['ATCGGTGCCACCTTCGCACTGATAGCTGCTGGT'],\n",
       " 'L171N': ['ACCGGTGCCATAACCGTTAATGCTTGCACAATA'],\n",
       " 'M10Q': ['GGTGCTGGTGCCCCACTGAAAGGTTGCCGGAAA'],\n",
       " 'N293Y': ['GCTACGGGTATAATAATAAATGCCCAGAAAATC'],\n",
       " 'T175H': ['CGGTGCATGTTCACCATGGCCATAACCCAGAAT'],\n",
       " 'T352V': ['TGCTGCACCATTTTCCACAATCAGGATCGGCAG'],\n",
       " 'W120N': ['CCACTGCGGCAGATCGTTATGATACAGGGTCAG'],\n",
       " 'Y118F': ['CGGCAGATCCCAATGAAACAGGGTCAGCATCGG'],\n",
       " 'Y166K': ['CAGAATGCTTGCACATTTCGGTTCATTGATGGT'],\n",
       " 'Y295W': ['AATAATGCTACGGGTCCAATAGTTAATGCCCAG']}"
      ]
     },
     "execution_count": 27,
     "metadata": {},
     "output_type": "execute_result"
    }
   ],
   "source": [
    "my_muts"
   ]
  },
  {
   "cell_type": "code",
   "execution_count": 28,
   "metadata": {
    "collapsed": false
   },
   "outputs": [
    {
     "data": {
      "text/plain": [
       "{'format': 'python', 'license': 'GPL'}"
      ]
     },
     "execution_count": 28,
     "metadata": {},
     "output_type": "execute_result"
    }
   ],
   "source": [
    "# this notebook generates the manifest.json file for the bull_shit protocol \n",
    "\n",
    "manifest = {}\n",
    "\n",
    "manifest.update( { 'format': 'python', 'license': 'GPL' } )\n",
    "\n",
    "manifest"
   ]
  },
  {
   "cell_type": "code",
   "execution_count": 29,
   "metadata": {
    "collapsed": false
   },
   "outputs": [],
   "source": [
    "my_protocol = {\n",
    "    'name': 'bull_shit', \n",
    "    'version': '0.0.0', \n",
    "    'description': 'Kunkel mutagenesis, \"bull shit\" version', \n",
    "    'command_string': 'python bullshit.py', \n",
    "    'inputs': {\n",
    "        'dna_aliquot': 'aliquot', \n",
    "        'mutants': 'string', # sigh, we cannot pass JSON \n",
    "        'selection_antibiotic': 'string', \n",
    "    }, \n",
    "    'preview': {\n",
    "        'refs': {\n",
    "            'my_dna': {\n",
    "                'type': 'micro-2.0',\n",
    "                'store': 'cold_20', \n",
    "            }\n",
    "        },\n",
    "        'parameters': {\n",
    "            'dna_aliquot': 'my_dna/0', \n",
    "            'selection_antibiotic': 'kanamycin', \n",
    "            'mutants': my_muts, \n",
    "        }\n",
    "    },\n",
    "}\n",
    "\n",
    "manifest.update( { 'protocols': [ my_protocol ] } )"
   ]
  },
  {
   "cell_type": "code",
   "execution_count": 30,
   "metadata": {
    "collapsed": false
   },
   "outputs": [],
   "source": [
    "import json \n",
    "\n",
    "with open( 'manifest.json', 'w' ) as fn:\n",
    "    fn.write( json.dumps( manifest, indent=2 ) ) "
   ]
  },
  {
   "cell_type": "code",
   "execution_count": 31,
   "metadata": {
    "collapsed": false
   },
   "outputs": [
    {
     "name": "stdout",
     "output_type": "stream",
     "text": [
      "{\r\n",
      "  \"license\": \"GPL\",\r\n",
      "  \"protocols\": [\r\n",
      "    {\r\n",
      "      \"description\": \"Kunkel mutagenesis, \\\"bull shit\\\" version\",\r\n",
      "      \"command_string\": \"python bullshit.py\",\r\n",
      "      \"version\": \"0.0.0\",\r\n",
      "      \"preview\": {\r\n",
      "        \"parameters\": {\r\n",
      "          \"selection_antibiotic\": \"kanamycin\",\r\n",
      "          \"mutants\": {\r\n",
      "            \"L171N\": [\r\n",
      "              \"ACCGGTGCCATAACCGTTAATGCTTGCACAATA\"\r\n",
      "            ],\r\n",
      "            \"H328N\": [\r\n",
      "              \"ATAGAAGCTTTCCGGGTTAATTTCCCAACCCAT\"\r\n",
      "            ],\r\n",
      "            \"T175H\": [\r\n",
      "              \"CGGTGCATGTTCACCATGGCCATAACCCAGAAT\"\r\n",
      "            ],\r\n",
      "            \"T352V\": [\r\n",
      "              \"TGCTGCACCATTTTCCACAATCAGGATCGGCAG\"\r\n",
      "            ],\r\n",
      "            \"M10Q\": [\r\n",
      "              \"GGTGCTGGTGCCCCACTGAAAGGTTGCCGGAAA\"\r\n",
      "            ],\r\n",
      "            \"H178C\": [\r\n",
      "              \"TTCATGACCCGGTGCGCATTCACCGGTGCCATA\"\r\n",
      "            ],\r\n",
      "            \"Y295W\": [\r\n",
      "              \"AATAATGCTACGGGTCCAATAGTTAATGCCCAG\"\r\n",
      "            ],\r\n",
      "            \"H119Q\": [\r\n",
      "              \"CTGCGGCAGATCCCACTGATACAGGGTCAGCAT\"\r\n",
      "            ],\r\n",
      "            \"E406V\": [\r\n",
      "              \"ATAACCCCATGCCCACACAAAGTTATCCAGAAA\"\r\n",
      "            ],\r\n",
      "            \"I20C\": [\r\n",
      "              \"ATCGGTGCCACCTTCGCACTGATAGCTGCTGGT\"\r\n",
      "            ],\r\n",
      "            \"Y166K\": [\r\n",
      "              \"CAGAATGCTTGCACATTTCGGTTCATTGATGGT\"\r\n",
      "            ],\r\n",
      "            \"N293Y\": [\r\n",
      "              \"GCTACGGGTATAATAATAAATGCCCAGAAAATC\"\r\n",
      "            ],\r\n",
      "            \"Y118F\": [\r\n",
      "              \"CGGCAGATCCCAATGAAACAGGGTCAGCATCGG\"\r\n",
      "            ],\r\n",
      "            \"A306N\": [\r\n",
      "              \"AACTTGCAGCAGGCTGTTATCATTGGTGCTGCG\"\r\n",
      "            ],\r\n",
      "            \"W120N\": [\r\n",
      "              \"CCACTGCGGCAGATCGTTATGATACAGGGTCAG\"\r\n",
      "            ],\r\n",
      "            \"H178W\": [\r\n",
      "              \"TTCATGACCCGGTGCCCATTCACCGGTGCCATA\"\r\n",
      "            ]\r\n",
      "          },\r\n",
      "          \"dna_aliquot\": \"my_dna/0\"\r\n",
      "        },\r\n",
      "        \"refs\": {\r\n",
      "          \"my_dna\": {\r\n",
      "            \"type\": \"micro-2.0\",\r\n",
      "            \"store\": \"cold_20\"\r\n",
      "          }\r\n",
      "        }\r\n",
      "      },\r\n",
      "      \"inputs\": {\r\n",
      "        \"mutants\": \"string\",\r\n",
      "        \"selection_antibiotic\": \"string\",\r\n",
      "        \"dna_aliquot\": \"aliquot\"\r\n",
      "      },\r\n",
      "      \"name\": \"bull_shit\"\r\n",
      "    }\r\n",
      "  ],\r\n",
      "  \"format\": \"python\"\r\n",
      "}"
     ]
    }
   ],
   "source": [
    "! cat manifest.json"
   ]
  },
  {
   "cell_type": "code",
   "execution_count": 34,
   "metadata": {
    "collapsed": true
   },
   "outputs": [],
   "source": [
    "# make a config file! \n",
    "\n",
    "my_muts = {\n",
    "    'A306N': ['AACTTGCAGCAGGCTGTTATCATTGGTGCTGCG'],\n",
    "    'E406V': ['ATAACCCCATGCCCACACAAAGTTATCCAGAAA'],\n",
    "    'H119Q': ['CTGCGGCAGATCCCACTGATACAGGGTCAGCAT'],\n",
    "    'H178C': ['TTCATGACCCGGTGCGCATTCACCGGTGCCATA'],\n",
    "    'H178W': ['TTCATGACCCGGTGCCCATTCACCGGTGCCATA'],\n",
    "    'H328N': ['ATAGAAGCTTTCCGGGTTAATTTCCCAACCCAT'],\n",
    "    'I20C': ['ATCGGTGCCACCTTCGCACTGATAGCTGCTGGT'],\n",
    "    'L171N': ['ACCGGTGCCATAACCGTTAATGCTTGCACAATA'],\n",
    "    'M10Q': ['GGTGCTGGTGCCCCACTGAAAGGTTGCCGGAAA'],\n",
    "    'N293Y': ['GCTACGGGTATAATAATAAATGCCCAGAAAATC'],\n",
    "    'T175H': ['CGGTGCATGTTCACCATGGCCATAACCCAGAAT'],\n",
    "    'T352V': ['TGCTGCACCATTTTCCACAATCAGGATCGGCAG'],\n",
    "    'W120N': ['CCACTGCGGCAGATCGTTATGATACAGGGTCAG'],\n",
    "    'Y118F': ['CGGCAGATCCCAATGAAACAGGGTCAGCATCGG'],\n",
    "    'Y166K': ['CAGAATGCTTGCACATTTCGGTTCATTGATGGT'],\n",
    "    'Y295W': ['AATAATGCTACGGGTCCAATAGTTAATGCCCAG'],\n",
    "}\n",
    "\n",
    "config = {\n",
    "    'refs': {\n",
    "        'my_dna': {\n",
    "            'id': 'ct193nt4f28g46', \n",
    "            'type': 'micro-2.0',\n",
    "            'store': 'cold_20', \n",
    "        }\n",
    "    },\n",
    "    'parameters': {\n",
    "        'dna_aliquot': 'my_dna/0', \n",
    "        'selection_antibiotic': 'kanamycin', \n",
    "        'mutants': my_muts, \n",
    "    }\n",
    "}\n",
    "\n",
    "with open( 'example_config.json', 'w' ) as fn:\n",
    "    fn.write( json.dumps( config, indent=2 ) ) \n",
    "    \n",
    "# use \n",
    "# transcriptic compile bull_shit config.json to see autorptoco\n",
    "# transcriptic compile bull_shit config.json | transcriptic analyze "
   ]
  },
  {
   "cell_type": "code",
   "execution_count": 33,
   "metadata": {
    "collapsed": false
   },
   "outputs": [
    {
     "name": "stdout",
     "output_type": "stream",
     "text": [
      "{\r\n",
      "  \"parameters\": {\r\n",
      "    \"selection_antibiotic\": \"kanamycin\",\r\n",
      "    \"mutants\": {\r\n",
      "      \"L171N\": [\r\n",
      "        \"ACCGGTGCCATAACCGTTAATGCTTGCACAATA\"\r\n",
      "      ],\r\n",
      "      \"H178C\": [\r\n",
      "        \"TTCATGACCCGGTGCGCATTCACCGGTGCCATA\"\r\n",
      "      ],\r\n",
      "      \"T175H\": [\r\n",
      "        \"CGGTGCATGTTCACCATGGCCATAACCCAGAAT\"\r\n",
      "      ],\r\n",
      "      \"H178W\": [\r\n",
      "        \"TTCATGACCCGGTGCCCATTCACCGGTGCCATA\"\r\n",
      "      ],\r\n",
      "      \"M10Q\": [\r\n",
      "        \"GGTGCTGGTGCCCCACTGAAAGGTTGCCGGAAA\"\r\n",
      "      ],\r\n",
      "      \"H328N\": [\r\n",
      "        \"ATAGAAGCTTTCCGGGTTAATTTCCCAACCCAT\"\r\n",
      "      ],\r\n",
      "      \"Y295W\": [\r\n",
      "        \"AATAATGCTACGGGTCCAATAGTTAATGCCCAG\"\r\n",
      "      ],\r\n",
      "      \"H119Q\": [\r\n",
      "        \"CTGCGGCAGATCCCACTGATACAGGGTCAGCAT\"\r\n",
      "      ],\r\n",
      "      \"E406V\": [\r\n",
      "        \"ATAACCCCATGCCCACACAAAGTTATCCAGAAA\"\r\n",
      "      ],\r\n",
      "      \"I20C\": [\r\n",
      "        \"ATCGGTGCCACCTTCGCACTGATAGCTGCTGGT\"\r\n",
      "      ],\r\n",
      "      \"Y166K\": [\r\n",
      "        \"CAGAATGCTTGCACATTTCGGTTCATTGATGGT\"\r\n",
      "      ],\r\n",
      "      \"N293Y\": [\r\n",
      "        \"GCTACGGGTATAATAATAAATGCCCAGAAAATC\"\r\n",
      "      ],\r\n",
      "      \"Y118F\": [\r\n",
      "        \"CGGCAGATCCCAATGAAACAGGGTCAGCATCGG\"\r\n",
      "      ],\r\n",
      "      \"A306N\": [\r\n",
      "        \"AACTTGCAGCAGGCTGTTATCATTGGTGCTGCG\"\r\n",
      "      ],\r\n",
      "      \"W120N\": [\r\n",
      "        \"CCACTGCGGCAGATCGTTATGATACAGGGTCAG\"\r\n",
      "      ],\r\n",
      "      \"T352V\": [\r\n",
      "        \"TGCTGCACCATTTTCCACAATCAGGATCGGCAG\"\r\n",
      "      ]\r\n",
      "    },\r\n",
      "    \"dna_aliquot\": \"my_dna/0\"\r\n",
      "  },\r\n",
      "  \"refs\": {\r\n",
      "    \"my_dna\": {\r\n",
      "      \"store\": \"cold_20\",\r\n",
      "      \"id\": \"mytestid\"\r\n",
      "    }\r\n",
      "  }\r\n",
      "}"
     ]
    }
   ],
   "source": [
    "! cat example_config.json"
   ]
  }
 ],
 "metadata": {
  "anaconda-cloud": {},
  "kernelspec": {
   "display_name": "Python [conda root]",
   "language": "python",
   "name": "conda-root-py"
  },
  "language_info": {
   "codemirror_mode": {
    "name": "ipython",
    "version": 3
   },
   "file_extension": ".py",
   "mimetype": "text/x-python",
   "name": "python",
   "nbconvert_exporter": "python",
   "pygments_lexer": "ipython3",
   "version": "3.5.2"
  }
 },
 "nbformat": 4,
 "nbformat_minor": 1
}
