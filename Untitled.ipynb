{
 "cells": [
  {
   "cell_type": "code",
   "execution_count": 17,
   "metadata": {
    "collapsed": false
   },
   "outputs": [
    {
     "data": {
      "text/plain": [
       "{'format': 'python', 'license': 'None'}"
      ]
     },
     "execution_count": 17,
     "metadata": {},
     "output_type": "execute_result"
    }
   ],
   "source": [
    "# this notebook generates the manifest.json file for the bull_shit protocol \n",
    "\n",
    "manifest = {}\n",
    "\n",
    "manifest.update( { 'format': 'python', 'license': 'None' } )\n",
    "\n",
    "manifest"
   ]
  },
  {
   "cell_type": "code",
   "execution_count": 18,
   "metadata": {
    "collapsed": false
   },
   "outputs": [],
   "source": [
    "my_mutants = { \n",
    "    'A123B': [ \n",
    "        'ATGTAGCTGCTACGTAGCTAGCTAGCTAGCTG' \n",
    "    ], \n",
    "    'A123Z': [ \n",
    "        'ATGTAGCTGCTACCGTAGCTAGCTAGCTAGCTG',\n",
    "    ], \n",
    "}\n",
    "\n",
    "my_protocol = {\n",
    "    'name': 'bull_shit', \n",
    "    'version': '0.0.0', \n",
    "    'description': 'Kunkel mutagenesis, \"bull shit\" version', \n",
    "    'command_string': 'python bullshit.py', \n",
    "    'inputs': {\n",
    "        'dna_aliquot': 'aliquot', \n",
    "        'mutants': 'string', # sigh, we cannot pass JSON \n",
    "        'selection_antibiotic': 'string', \n",
    "    }, \n",
    "    'preview': {\n",
    "        'refs': {\n",
    "            'my_dna': {\n",
    "                'type': 'micro-2.0',\n",
    "                'store': 'cold_20', \n",
    "            }\n",
    "        },\n",
    "        'parameters': {\n",
    "            'dna_aliquot': 'my_dna/0', \n",
    "            'selection_antibiotic': 'kanamycin', \n",
    "            'mutants': my_mutants, \n",
    "        }\n",
    "    },\n",
    "}\n",
    "\n",
    "manifest.update( { 'protocols': [ my_protocol ] } )"
   ]
  },
  {
   "cell_type": "code",
   "execution_count": 19,
   "metadata": {
    "collapsed": false
   },
   "outputs": [],
   "source": [
    "import json \n",
    "\n",
    "with open( 'manifest.json', 'w' ) as fn:\n",
    "    fn.write( json.dumps( manifest, indent=2 ) ) "
   ]
  },
  {
   "cell_type": "code",
   "execution_count": 20,
   "metadata": {
    "collapsed": true
   },
   "outputs": [],
   "source": [
    "from autoprotocol import Protocol \n",
    "p = Protocol()\n",
    "\n",
    "p.provision?"
   ]
  },
  {
   "cell_type": "code",
   "execution_count": null,
   "metadata": {
    "collapsed": true
   },
   "outputs": [],
   "source": []
  }
 ],
 "metadata": {
  "anaconda-cloud": {},
  "kernelspec": {
   "display_name": "Python [conda root]",
   "language": "python",
   "name": "conda-root-py"
  },
  "language_info": {
   "codemirror_mode": {
    "name": "ipython",
    "version": 3
   },
   "file_extension": ".py",
   "mimetype": "text/x-python",
   "name": "python",
   "nbconvert_exporter": "python",
   "pygments_lexer": "ipython3",
   "version": "3.5.2"
  }
 },
 "nbformat": 4,
 "nbformat_minor": 1
}
